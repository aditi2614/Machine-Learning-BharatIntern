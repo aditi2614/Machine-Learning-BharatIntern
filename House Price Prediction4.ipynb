{
 "cells": [
  {
   "cell_type": "code",
   "execution_count": 29,
   "id": "7f1cc971",
   "metadata": {},
   "outputs": [
    {
     "name": "stdout",
     "output_type": "stream",
     "text": [
      "      CRIM    ZN  INDUS  CHAS    NOX     RM   AGE     DIS  RAD  TAX  PTRATIO  \\\n",
      "0  0.00632  18.0   2.31     0  0.538  6.575  65.2  4.0900    1  296     15.3   \n",
      "1  0.02731   0.0   7.07     0  0.469  6.421  78.9  4.9671    2  242     17.8   \n",
      "2  0.02729   0.0   7.07     0  0.469  7.185  61.1  4.9671    2  242     17.8   \n",
      "3  0.03237   0.0   2.18     0  0.458  6.998  45.8  6.0622    3  222     18.7   \n",
      "4  0.06905   0.0   2.18     0  0.458  7.147  54.2  6.0622    3  222     18.7   \n",
      "\n",
      "        B  LSTAT  MEDV  \n",
      "0  396.90   4.98  24.0  \n",
      "1  396.90   9.14  21.6  \n",
      "2  392.83   4.03  34.7  \n",
      "3  394.63   2.94  33.4  \n",
      "4  396.90   5.33  36.2  \n",
      "(506, 14)\n",
      "X_train : \n",
      "418    20.62\n",
      "26     14.81\n",
      "315    11.50\n",
      "443    18.85\n",
      "379    21.78\n",
      "Name: LSTAT, dtype: float64\n",
      "\n",
      "X_test : \n",
      "152    12.12\n",
      "261     7.26\n",
      "135    16.96\n",
      "41      4.84\n",
      "109    15.55\n",
      "Name: LSTAT, dtype: float64\n",
      "\n",
      "Y_train : \n",
      "418     8.8\n",
      "26     16.6\n",
      "315    16.2\n",
      "443    15.4\n",
      "379    10.2\n",
      "Name: MEDV, dtype: float64\n",
      "\n",
      "Y_test : \n",
      "152    15.3\n",
      "261    43.1\n",
      "135    18.1\n",
      "41     26.6\n",
      "109    19.4\n",
      "Name: MEDV, dtype: float64\n"
     ]
    }
   ],
   "source": [
    "# import packages\n",
    "import numpy as np\n",
    "import pandas as pd\n",
    "from sklearn.model_selection import train_test_split\n",
    "\n",
    "# importing data\n",
    "df = pd.read_csv('housing3.csv')\n",
    "\n",
    "# head of the data\n",
    "print(df.head())\n",
    "print(df.shape)\n",
    "\n",
    "x=df['LSTAT']\n",
    "y=df['MEDV']\n",
    "\n",
    "# using the train test split function\n",
    "X_train, X_test,Y_train, Y_test = train_test_split(x,y ,random_state=104,test_size=0.25,shuffle=True)\n",
    "\n",
    "\n",
    "# printing out train and test sets\n",
    "\n",
    "print('X_train : ')\n",
    "print(X_train.head())\n",
    "print('')\n",
    "print('X_test : ')\n",
    "print(X_test.head())\n",
    "print('')\n",
    "print('Y_train : ')\n",
    "print(Y_train.head())\n",
    "print('')\n",
    "print('Y_test : ')\n",
    "print(Y_test.head())\n",
    "\n"
   ]
  },
  {
   "cell_type": "code",
   "execution_count": 6,
   "id": "87f625f8",
   "metadata": {},
   "outputs": [
    {
     "data": {
      "text/plain": [
       "(379,)"
      ]
     },
     "execution_count": 6,
     "metadata": {},
     "output_type": "execute_result"
    }
   ],
   "source": [
    "# import packages\n",
    "import numpy as np\n",
    "import pandas as pd\n",
    "from sklearn.model_selection import train_test_split\n",
    "\n",
    "# importing data\n",
    "df=pd.read_csv('housing3.csv')\n",
    "\n",
    "x=df['LSTAT']\n",
    "x=x.to_numpy()\n",
    "y=df['MEDV']\n",
    "y=y.to_numpy()\n",
    "# using the train test split function\n",
    "X_train,X_test,Y_train, Y_test=train_test_split(x,y,random_state=104,test_size=0.25,shuffle=True)\n",
    "X_train.shape\n",
    "\n"
   ]
  },
  {
   "cell_type": "code",
   "execution_count": 19,
   "id": "74afe010",
   "metadata": {},
   "outputs": [
    {
     "name": "stdout",
     "output_type": "stream",
     "text": [
      "X_train:\n"
     ]
    },
    {
     "ename": "AttributeError",
     "evalue": "'numpy.ndarray' object has no attribute 'head'",
     "output_type": "error",
     "traceback": [
      "\u001b[1;31m---------------------------------------------------------------------------\u001b[0m",
      "\u001b[1;31mAttributeError\u001b[0m                            Traceback (most recent call last)",
      "\u001b[1;32m~\\AppData\\Local\\Temp\\ipykernel_6912\\1955746985.py\u001b[0m in \u001b[0;36m<module>\u001b[1;34m\u001b[0m\n\u001b[0;32m      1\u001b[0m \u001b[1;31m# printing out train and test sets\u001b[0m\u001b[1;33m\u001b[0m\u001b[1;33m\u001b[0m\u001b[0m\n\u001b[0;32m      2\u001b[0m \u001b[0mprint\u001b[0m\u001b[1;33m(\u001b[0m\u001b[1;34m'X_train:'\u001b[0m\u001b[1;33m)\u001b[0m\u001b[1;33m\u001b[0m\u001b[1;33m\u001b[0m\u001b[0m\n\u001b[1;32m----> 3\u001b[1;33m \u001b[0mprint\u001b[0m\u001b[1;33m(\u001b[0m\u001b[0mX_train\u001b[0m\u001b[1;33m.\u001b[0m\u001b[0mhead\u001b[0m\u001b[1;33m(\u001b[0m\u001b[1;33m)\u001b[0m\u001b[1;33m)\u001b[0m\u001b[1;33m\u001b[0m\u001b[1;33m\u001b[0m\u001b[0m\n\u001b[0m\u001b[0;32m      4\u001b[0m \u001b[0mprint\u001b[0m\u001b[1;33m(\u001b[0m\u001b[1;34m''\u001b[0m\u001b[1;33m)\u001b[0m\u001b[1;33m\u001b[0m\u001b[1;33m\u001b[0m\u001b[0m\n\u001b[0;32m      5\u001b[0m \u001b[0mprint\u001b[0m\u001b[1;33m(\u001b[0m\u001b[1;34m'X_test:'\u001b[0m\u001b[1;33m)\u001b[0m\u001b[1;33m\u001b[0m\u001b[1;33m\u001b[0m\u001b[0m\n",
      "\u001b[1;31mAttributeError\u001b[0m: 'numpy.ndarray' object has no attribute 'head'"
     ]
    }
   ],
   "source": [
    "\n",
    "# printing out train and test sets\n",
    "print('X_train:')\n",
    "print(X_train.head())\n",
    "print('')\n",
    "print('X_test:')\n",
    "print(X_test.head())\n",
    "print('')\n",
    "print('Y_train:')\n",
    "print(Y_train.head())\n",
    "print('')\n",
    "print('Y_test:')\n",
    "print(y_test.head())\n",
    "\n"
   ]
  },
  {
   "cell_type": "code",
   "execution_count": 42,
   "id": "0a53d33f",
   "metadata": {},
   "outputs": [],
   "source": [
    "##after spliting giving training data and testing data\n",
    "import numpy as np\n",
    "import matplotlib.pyplot as plt\n",
    "def estimate_coef(x,y):\n",
    "# evaluating size of data points\n",
    "    n=np.size(X_train)\n",
    "  \n",
    "# mean of x_train and y_train\n",
    "    m_x=np.mean(X_train)\n",
    "    m_y=np.mean(Y_train)\n",
    "  \n",
    "# calculating deviation\n",
    "    SS_xy=np.sum(Y_train*X_train)-n*m_y*m_x\n",
    "    SS_xx=np.sum(X_train*X_train)-n*m_x*m_x\n",
    "  \n",
    "# calculating regression coefficients\n",
    "    b_1=SS_xy/SS_xx\n",
    "    b_0=m_y-b_1*m_x\n",
    "    b=[b_1, b_0]\n",
    "    return (b)"
   ]
  },
  {
   "cell_type": "code",
   "execution_count": 57,
   "id": "840162f7",
   "metadata": {},
   "outputs": [],
   "source": [
    "def plot_regression_line(x,y,b):\n",
    "    ##ploting the actual points as scatter plot\n",
    "    plt.scatter(x,y,color='m',marker=\"o\",s=30)\n",
    "    \n",
    "    #predicated response vector\n",
    "    y_pred=b[0]+b[1]*x\n",
    "    #plotting regression line\n",
    "    plt.scatter(X_test,Y_test,color='g')\n",
    "    plt.plot(X_test,y_pred,color='r')\n",
    "    plt.show()\n",
    "     \n",
    "    #estimating coefficient\n",
    "    b=estimate_coef(X_train,Y_train)\n",
    "    print(\"Estimated coefficient:\\nb_0 ={} \\\n",
    "                \\nb_1={}\",format(b[0],b[1]))\n",
    "    plot_regression_line(X_test,Y_test,b)"
   ]
  },
  {
   "cell_type": "code",
   "execution_count": 63,
   "id": "ec6d9b35",
   "metadata": {},
   "outputs": [],
   "source": [
    "#by using sklearn\n",
    "import numpy as np\n",
    "from sklearn.linear_model import LinearRegression\n",
    "\n"
   ]
  },
  {
   "cell_type": "code",
   "execution_count": 65,
   "id": "e0a584d7",
   "metadata": {},
   "outputs": [],
   "source": [
    "regression_model=LinearRegression\n",
    "import numpy as np\n",
    "#Add index value\n",
    "\n"
   ]
  },
  {
   "cell_type": "code",
   "execution_count": 69,
   "id": "4f764adf",
   "metadata": {},
   "outputs": [
    {
     "ename": "TypeError",
     "evalue": "fit() missing 1 required positional argument: 'y'",
     "output_type": "error",
     "traceback": [
      "\u001b[1;31m---------------------------------------------------------------------------\u001b[0m",
      "\u001b[1;31mTypeError\u001b[0m                                 Traceback (most recent call last)",
      "\u001b[1;32m~\\AppData\\Local\\Temp\\ipykernel_6912\\969725790.py\u001b[0m in \u001b[0;36m<module>\u001b[1;34m\u001b[0m\n\u001b[0;32m      1\u001b[0m \u001b[0mX_train\u001b[0m\u001b[1;33m=\u001b[0m\u001b[0mX_train\u001b[0m\u001b[1;33m.\u001b[0m\u001b[0mreshape\u001b[0m\u001b[1;33m(\u001b[0m\u001b[1;33m-\u001b[0m\u001b[1;36m1\u001b[0m\u001b[1;33m,\u001b[0m\u001b[1;36m1\u001b[0m\u001b[1;33m)\u001b[0m\u001b[1;33m\u001b[0m\u001b[1;33m\u001b[0m\u001b[0m\n\u001b[0;32m      2\u001b[0m \u001b[0mX_test\u001b[0m\u001b[1;33m=\u001b[0m\u001b[0mX_test\u001b[0m\u001b[1;33m.\u001b[0m\u001b[0mreshape\u001b[0m\u001b[1;33m(\u001b[0m\u001b[1;33m-\u001b[0m\u001b[1;36m1\u001b[0m\u001b[1;33m,\u001b[0m\u001b[1;36m1\u001b[0m\u001b[1;33m)\u001b[0m\u001b[1;33m\u001b[0m\u001b[1;33m\u001b[0m\u001b[0m\n\u001b[1;32m----> 3\u001b[1;33m \u001b[0mregression_model\u001b[0m\u001b[1;33m.\u001b[0m\u001b[0mfit\u001b[0m\u001b[1;33m(\u001b[0m\u001b[0mX_train\u001b[0m\u001b[1;33m,\u001b[0m\u001b[0mY_train\u001b[0m\u001b[1;33m)\u001b[0m\u001b[1;33m\u001b[0m\u001b[1;33m\u001b[0m\u001b[0m\n\u001b[0m\u001b[0;32m      4\u001b[0m \u001b[0my_predicted\u001b[0m\u001b[1;33m=\u001b[0m\u001b[0mregression_model\u001b[0m\u001b[1;33m.\u001b[0m\u001b[0mpredict\u001b[0m\u001b[1;33m(\u001b[0m\u001b[0mX_test\u001b[0m\u001b[1;33m)\u001b[0m\u001b[1;33m\u001b[0m\u001b[1;33m\u001b[0m\u001b[0m\n\u001b[0;32m      5\u001b[0m \u001b[0mprint\u001b[0m\u001b[1;33m(\u001b[0m\u001b[0my_predicted\u001b[0m\u001b[1;33m)\u001b[0m\u001b[1;33m\u001b[0m\u001b[1;33m\u001b[0m\u001b[0m\n",
      "\u001b[1;31mTypeError\u001b[0m: fit() missing 1 required positional argument: 'y'"
     ]
    }
   ],
   "source": [
    "X_train=X_train.reshape(-1,1)\n",
    "X_test=X_test.reshape(-1,1)\n",
    "regression_model.fit(X_train,Y_train)\n",
    "y_predicted=regression_model.predict(X_test)\n",
    "print(y_predicted)"
   ]
  },
  {
   "cell_type": "code",
   "execution_count": null,
   "id": "891cb4d5",
   "metadata": {},
   "outputs": [],
   "source": []
  }
 ],
 "metadata": {
  "kernelspec": {
   "display_name": "Python 3 (ipykernel)",
   "language": "python",
   "name": "python3"
  },
  "language_info": {
   "codemirror_mode": {
    "name": "ipython",
    "version": 3
   },
   "file_extension": ".py",
   "mimetype": "text/x-python",
   "name": "python",
   "nbconvert_exporter": "python",
   "pygments_lexer": "ipython3",
   "version": "3.9.13"
  }
 },
 "nbformat": 4,
 "nbformat_minor": 5
}
